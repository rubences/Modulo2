{
 "cells": [
  {
   "cell_type": "code",
   "execution_count": null,
   "id": "d1c1cf97",
   "metadata": {},
   "outputs": [],
   "source": []
  },
  {
   "cell_type": "markdown",
   "id": "1fc4d6d2",
   "metadata": {},
   "source": [
    "1) Indica un ejemplo de un tipo de dato:\n",
    "\n",
    "entero\n",
    "flotante\n",
    "string\n",
    "booleano"
   ]
  },
  {
   "cell_type": "code",
   "execution_count": 1,
   "id": "434bfa5e",
   "metadata": {},
   "outputs": [],
   "source": [
    "entero  = 7\n",
    "flotante = 3.14\n",
    "string = \"Hola\"\n",
    "booleano = True"
   ]
  }
 ],
 "metadata": {
  "kernelspec": {
   "display_name": "Python 3",
   "language": "python",
   "name": "python3"
  },
  "language_info": {
   "codemirror_mode": {
    "name": "ipython",
    "version": 3
   },
   "file_extension": ".py",
   "mimetype": "text/x-python",
   "name": "python",
   "nbconvert_exporter": "python",
   "pygments_lexer": "ipython3",
   "version": "3.12.1"
  }
 },
 "nbformat": 4,
 "nbformat_minor": 5
}
